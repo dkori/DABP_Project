{
 "cells": [
  {
   "cell_type": "markdown",
   "metadata": {},
   "source": [
    "# Food Deserts Model Implementation\n",
    "\n",
    "Group Members: Nathan Deron, Jeremiah Humes, Devraj Kori, Meredith Meadows"
   ]
  },
  {
   "cell_type": "markdown",
   "metadata": {},
   "source": [
    "## Setup"
   ]
  },
  {
   "cell_type": "code",
   "execution_count": 16,
   "metadata": {},
   "outputs": [],
   "source": [
    "# Import packages\n",
    "from gurobipy import *\n",
    "import numpy as np\n",
    "import pandas as pd\n",
    "import matplotlib.pyplot as plt"
   ]
  },
  {
   "cell_type": "code",
   "execution_count": 17,
   "metadata": {},
   "outputs": [],
   "source": [
    "#Load in the data\n",
    "vacant_lots = pd.read_csv('data/vacant_lots_centroid.csv')\n",
    "travel_times = pd.read_csv('data/travel_times_100.csv')\n",
    "travel_costs = pd.read_csv('data/travel_costs_100.csv')\n",
    "supermarkets = pd.read_csv('data/supermarkets.csv')\n",
    "addresses = pd.read_csv('data/pittsburgh_100.csv')"
   ]
  },
  {
   "cell_type": "code",
   "execution_count": 18,
   "metadata": {},
   "outputs": [],
   "source": [
    "#Extract the relevant variables and put into numpy arrays\n",
    "D = travel_costs.iloc[:,2:].to_numpy(dtype = float)\n",
    "T = travel_times.iloc[:,2:].to_numpy(dtype = float)"
   ]
  },
  {
   "cell_type": "markdown",
   "metadata": {},
   "source": [
    "## Define Parameters"
   ]
  },
  {
   "cell_type": "code",
   "execution_count": 22,
   "metadata": {},
   "outputs": [],
   "source": [
    "#Create generators for variable indexes\n",
    "households = range(100) #indexed by i\n",
    "store_type = range(3) #not sure about this one yet\n",
    "location = range(100) #indexed by k, 0-60 = grocery stores, 61-99 = vacant lot\n",
    "\n",
    "#Create O[k] - convenience store identifier\n",
    "#Logic: len(supermarkets) is number of stores, get a list of ones of this length\n",
    "#number of lots is number of columns in either travel_times or travel_costs minus number of stores\n",
    "#since they are all columns in the same matrix, make a list of zeros of this size\n",
    "#Add both lists together\n",
    "number_of_stores = len(supermarkets)\n",
    "number_of_lots = T.shape[1] - number_of_stores\n",
    "O = ([1]*number_of_stores) + ([0]*number_of_lots)\n",
    "\n",
    "#Create E[k] - the cost of building a store at location k\n",
    "#estimated cost of building the store + the cost of acquiring the lot\n",
    "#Construction cost = 17,000 sq ft * $78.57 per sq ft\n",
    "constr_cost = 17000 * 78.57\n",
    "\n",
    "#Get the lot prices\n",
    "lot_prices = list(vacant_lots['LOCALLAND__asmt'])\n",
    "\n",
    "#Create E[k] based on O[k] - doesn't matter what price for non-vacant areas set to\n",
    "E = [constr_cost + int(lot_prices[i]) if O[i] == 0 else 1 for i in range(len(O)) ]\n",
    "\n",
    "#Define the lambda penalty\n",
    "\n",
    "#Generate store preference for each household\n",
    "#Separate by each third of the income distribution\n",
    "addresses['prefs'] = pd.qcut(addresses['simulated_income'], 3, labels = [1, 2, 3])\n",
    "\n",
    "lambda_penalty = 20\n",
    "lamb = []\n",
    "for i in households:\n",
    "    pref = [lambda_penalty if addresses['prefs'][i] != j else 0 for j in store_type]\n",
    "    lamb.append(pref)\n",
    "lamb = np.array(lamb)\n",
    "\n",
    "# Construct Z[i,k] = 1 if household travels time exceeds 20 minutes, 0 otherwise\n",
    "# travel time is in hours, so convert 20 minutes to hours\n",
    "cutoff = 20\n",
    "cutoff_hours = cutoff/60\n",
    "\n",
    "#Take travel times, replace any value greater than the cuttoff with 1, 0 otherwise\n",
    "Z = np.where(T > cutoff_hours, 1, 0)\n",
    "\n",
    "#Construct the delta matrix\n",
    "#Difference between cutoff and travel time\n",
    "Z = (T - cutoff_hours)*Z\n",
    "\n",
    "#Finally, convert Z to minutes\n",
    "Z = Z*60\n",
    "\n",
    "#Set Delta penalty\n",
    "delta = 2\n"
   ]
  },
  {
   "cell_type": "markdown",
   "metadata": {},
   "source": [
    "## Gurobi Implementation - Decision Vars, Objective Terms, and Constraints"
   ]
  },
  {
   "cell_type": "code",
   "execution_count": 25,
   "metadata": {},
   "outputs": [],
   "source": [
    "#Initialize the model\n",
    "m = Model(name = 'Food_Deserts')\n",
    "\n",
    "#Define decision variables\n",
    "X = m.addVars(store_type, location, vtype = GRB.BINARY, name = 'X_jk')\n",
    "Y = m.addVars(households, store_type, location, vtype = GRB.BINARY, name = 'Y_ijk')\n",
    "\n",
    "#Define the objective terms\n",
    "#Total Construction cost\n",
    "BUILD_COST = LinExpr()\n",
    "\n",
    "for j in store_type:\n",
    "    for k in location:\n",
    "        BUILD_COST += X[j,k]*E[k]\n",
    "        \n",
    "#Total Access cost\n",
    "ACCESS_COST = LinExpr()\n",
    "\n",
    "for j in store_type:\n",
    "    for i in households:\n",
    "        for k in location:\n",
    "            ACCESS_COST += Y[i,j,k] * (D[i,k] + Z[i,k]*delta + lamb[i,j])\n",
    "\n",
    "#Define the constraints\n",
    "\n",
    "#Can only build on vacant land\n",
    "\n",
    "for j in store_type:\n",
    "    for k in location:\n",
    "        m.addConstr(X[j,k] <= 1 - O[k])\n",
    "        \n",
    "#Can only shop at existing or built store\n",
    "for i in households:\n",
    "    for j in store_type:\n",
    "        for k in location:\n",
    "            m.addConstr(Y[i,j,k] <= O[k] + X[j,k])\n",
    "\n",
    "#must build 5 stores\n",
    "m.addConstr( sum(X[j,k] for j in store_type for k in location) >= 5)\n",
    "\n",
    "#Customer assignment\n",
    "for i in households:\n",
    "    m.addConstr( sum(Y[i,j,k] for j in store_type for k in location) == 1 )"
   ]
  },
  {
   "cell_type": "markdown",
   "metadata": {},
   "source": [
    "## Add Goals Weights, Set Objective, and Solve"
   ]
  },
  {
   "cell_type": "code",
   "execution_count": 45,
   "metadata": {},
   "outputs": [
    {
     "name": "stdout",
     "output_type": "stream",
     "text": [
      "Alpha:  0.0\n",
      "Optimal Construction Cost:  160015830.0\n",
      "Optimal Access Cost:  42543.02\n",
      "Total Objective Function Value:  42543.02\n",
      "\n",
      "Alpha:  0.05\n",
      "Optimal Construction Cost:  6692350.0\n",
      "Optimal Access Cost:  45262.56\n",
      "Total Objective Function Value:  377616.93\n",
      "\n",
      "Alpha:  0.1\n",
      "Optimal Construction Cost:  6692350.0\n",
      "Optimal Access Cost:  45262.56\n",
      "Total Objective Function Value:  709971.3\n",
      "\n",
      "Alpha:  0.15000000000000002\n",
      "Optimal Construction Cost:  6688250.0\n",
      "Optimal Access Cost:  45965.47\n",
      "Total Objective Function Value:  1042308.15\n",
      "\n",
      "Alpha:  0.2\n",
      "Optimal Construction Cost:  6688250.0\n",
      "Optimal Access Cost:  45965.47\n",
      "Total Objective Function Value:  1374422.37\n",
      "\n",
      "Alpha:  0.25\n",
      "Optimal Construction Cost:  6688250.0\n",
      "Optimal Access Cost:  45965.47\n",
      "Total Objective Function Value:  1706536.6\n",
      "\n",
      "Alpha:  0.30000000000000004\n",
      "Optimal Construction Cost:  6684550.0\n",
      "Optimal Access Cost:  47469.12\n",
      "Total Objective Function Value:  2038593.38\n",
      "\n",
      "Alpha:  0.35000000000000003\n",
      "Optimal Construction Cost:  6684150.0\n",
      "Optimal Access Cost:  47669.49\n",
      "Total Objective Function Value:  2370437.67\n",
      "\n",
      "Alpha:  0.4\n",
      "Optimal Construction Cost:  6684150.0\n",
      "Optimal Access Cost:  47669.49\n",
      "Total Objective Function Value:  2702261.69\n",
      "\n",
      "Alpha:  0.45\n",
      "Optimal Construction Cost:  6684150.0\n",
      "Optimal Access Cost:  47669.49\n",
      "Total Objective Function Value:  3034085.72\n",
      "\n",
      "Alpha:  0.5\n",
      "Optimal Construction Cost:  6684150.0\n",
      "Optimal Access Cost:  47669.49\n",
      "Total Objective Function Value:  3365909.74\n",
      "\n",
      "Alpha:  0.55\n",
      "Optimal Construction Cost:  6684150.0\n",
      "Optimal Access Cost:  47669.49\n",
      "Total Objective Function Value:  3697733.77\n",
      "\n",
      "Alpha:  0.6000000000000001\n",
      "Optimal Construction Cost:  6684150.0\n",
      "Optimal Access Cost:  47669.49\n",
      "Total Objective Function Value:  4029557.79\n",
      "\n",
      "Alpha:  0.65\n",
      "Optimal Construction Cost:  6684150.0\n",
      "Optimal Access Cost:  47669.49\n",
      "Total Objective Function Value:  4361381.82\n",
      "\n",
      "Alpha:  0.7000000000000001\n",
      "Optimal Construction Cost:  6684150.0\n",
      "Optimal Access Cost:  47669.49\n",
      "Total Objective Function Value:  4693205.85\n",
      "\n",
      "Alpha:  0.75\n",
      "Optimal Construction Cost:  6684150.0\n",
      "Optimal Access Cost:  47669.49\n",
      "Total Objective Function Value:  5025029.87\n",
      "\n",
      "Alpha:  0.8\n",
      "Optimal Construction Cost:  6684150.0\n",
      "Optimal Access Cost:  47669.49\n",
      "Total Objective Function Value:  5356853.9\n",
      "\n",
      "Alpha:  0.8500000000000001\n",
      "Optimal Construction Cost:  6684150.0\n",
      "Optimal Access Cost:  47669.49\n",
      "Total Objective Function Value:  5688677.92\n",
      "\n",
      "Alpha:  0.9\n",
      "Optimal Construction Cost:  6684150.0\n",
      "Optimal Access Cost:  47669.49\n",
      "Total Objective Function Value:  6020501.95\n",
      "\n",
      "Alpha:  0.9500000000000001\n",
      "Optimal Construction Cost:  6684150.0\n",
      "Optimal Access Cost:  47669.49\n",
      "Total Objective Function Value:  6352325.97\n",
      "\n",
      "Alpha:  1.0\n",
      "Optimal Construction Cost:  6684150.0\n",
      "Optimal Access Cost:  1668751123424.57\n",
      "Total Objective Function Value:  6684150.0\n",
      "\n"
     ]
    }
   ],
   "source": [
    "#Initialize an empty list to store tuples\n",
    "#tuple = (construction cost, access cost)\n",
    "results = []\n",
    "\n",
    "#Define alpha values to use\n",
    "step = 0.05\n",
    "alphas = np.arange(0, 1+step, step)\n",
    "\n",
    "for alpha in alphas:\n",
    "    m.setObjective((alpha*BUILD_COST) + ((1-alpha)*ACCESS_COST), GRB.MINIMIZE)\n",
    "    m.setParam('OutputFlag', 0)\n",
    "    m.optimize()\n",
    "    results.append((BUILD_COST.getValue(), ACCESS_COST.getValue()))\n",
    "    print('Alpha: ', str(alpha))\n",
    "    print('Optimal Construction Cost: ', str(round(BUILD_COST.getValue(), 2)))\n",
    "    print('Optimal Access Cost: ', str(round(ACCESS_COST.getValue(), 2)))\n",
    "    print('Total Objective Function Value: ', str(round(m.objVal, 2)))\n",
    "    print()"
   ]
  },
  {
   "cell_type": "markdown",
   "metadata": {},
   "source": [
    "# Results - Plot Pareto Frontier"
   ]
  },
  {
   "cell_type": "code",
   "execution_count": 46,
   "metadata": {},
   "outputs": [
    {
     "data": {
      "text/plain": [
       "Text(0, 0.5, 'Total Access Cost (USD)')"
      ]
     },
     "execution_count": 46,
     "metadata": {},
     "output_type": "execute_result"
    },
    {
     "data": {
      "image/png": "[encoded data removed]",
      "text/plain": [
       "<Figure size 432x288 with 1 Axes>"
      ]
     },
     "metadata": {
      "needs_background": "light"
     },
     "output_type": "display_data"
    }
   ],
   "source": [
    "#Get x and y vectors from the results\n",
    "x = [BUILD_COST for (BUILD_COST, ACCESS_COST) in results]\n",
    "y = [ACCESS_COST for (BUILD_COST, ACCESS_COST) in results]\n",
    "\n",
    "#Plot the results\n",
    "plt.plot(x,y)\n",
    "plt.scatter(x,y)\n",
    "plt.title('Pareto Frontier - Construction Cost vs. Access Cost')\n",
    "plt.xlabel('Total Construction Cost (USD)')\n",
    "plt.ylabel('Total Access Cost (USD)')"
   ]
  },
  {
   "cell_type": "code",
   "execution_count": null,
   "metadata": {},
   "outputs": [],
   "source": []
  }
 ],
 "metadata": {
  "kernelspec": {
   "display_name": "Python 3",
   "language": "python",
   "name": "python3"
  },
  "language_info": {
   "codemirror_mode": {
    "name": "ipython",
    "version": 3
   },
   "file_extension": ".py",
   "mimetype": "text/x-python",
   "name": "python",
   "nbconvert_exporter": "python",
   "pygments_lexer": "ipython3",
   "version": "3.7.7"
  }
 },
 "nbformat": 4,
 "nbformat_minor": 4
}
