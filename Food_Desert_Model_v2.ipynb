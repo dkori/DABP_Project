{
 "cells": [
  {
   "cell_type": "markdown",
   "metadata": {},
   "source": [
    "# Food Deserts Model Implementation\n",
    "\n",
    "Group Members: Nathan Deron, Jeremiah Humes, Devraj Kori, Meredith Meadows"
   ]
  },
  {
   "cell_type": "markdown",
   "metadata": {},
   "source": [
    "## Setup"
   ]
  },
  {
   "cell_type": "code",
   "execution_count": 97,
   "metadata": {},
   "outputs": [],
   "source": [
    "# Import packages\n",
    "from gurobipy import *\n",
    "import numpy as np\n",
    "import pandas as pd\n",
    "import matplotlib.pyplot as plt"
   ]
  },
  {
   "cell_type": "code",
   "execution_count": 98,
   "metadata": {},
   "outputs": [],
   "source": [
    "#Load in the data\n",
    "vacant_lots = pd.read_csv('data/vacant_lots_centroid.csv')\n",
    "travel_times = pd.read_csv('data/travel_times_all.csv')\n",
    "travel_costs = pd.read_csv('data/travel_costs_all.csv')\n",
    "supermarkets = pd.read_csv('data/supermarkets.csv')\n",
    "addresses = pd.read_csv('data/pittsburgh_all.csv')"
   ]
  },
  {
   "cell_type": "code",
   "execution_count": 99,
   "metadata": {},
   "outputs": [],
   "source": [
    "#Extract the relevant variables and put into numpy arrays\n",
    "D = travel_costs.iloc[:,2:].to_numpy(dtype = float)\n",
    "T = travel_times.iloc[:,2:].to_numpy(dtype = float)"
   ]
  },
  {
   "cell_type": "code",
   "execution_count": 100,
   "metadata": {},
   "outputs": [
    {
     "data": {
      "text/plain": [
       "730"
      ]
     },
     "execution_count": 100,
     "metadata": {},
     "output_type": "execute_result"
    }
   ],
   "source": [
    "len(households)"
   ]
  },
  {
   "cell_type": "markdown",
   "metadata": {},
   "source": [
    "## Define Parameters"
   ]
  },
  {
   "cell_type": "code",
   "execution_count": 133,
   "metadata": {},
   "outputs": [],
   "source": [
    "#Create generators for variable indexes\n",
    "households = range(len(D)) #indexed by i\n",
    "store_type = range(3) #not sure about this one yet\n",
    "location = range(T.shape[1]) #indexed by k, 0-60 = grocery stores, 61-99 = vacant lot\n",
    "\n",
    "#Create O[k] - convenience store identifier\n",
    "#Logic: len(supermarkets) is number of stores, get a list of ones of this length\n",
    "#number of lots is number of columns in either travel_times or travel_costs minus number of stores\n",
    "#since they are all columns in the same matrix, make a list of zeros of this size\n",
    "#Add both lists together\n",
    "number_of_stores = len(supermarkets)\n",
    "number_of_lots = T.shape[1] - number_of_stores\n",
    "#lots go first, which matches how routes were calculated\n",
    "O = ([0]*number_of_lots)+([1]*number_of_stores)\n",
    "\n",
    "#Create E[k] - the cost of building a store at location k\n",
    "#estimated cost of building the store + the cost of acquiring the lot\n",
    "#Construction cost = 17,000 sq ft * $78.57 per sq ft\n",
    "constr_cost = 17000 * 78.57\n",
    "\n",
    "#Get the lot prices\n",
    "lot_prices = list(vacant_lots['LOCALLAND__asmt'])\n",
    "\n",
    "#Create E[k] based on O[k] - doesn't matter what price for non-vacant areas set to\n",
    "E = [constr_cost + lot_prices[i] for i in range(number_of_lots)]+[9999999]*number_of_stores\n",
    "\n",
    "\n",
    "#Define the lambda penalty\n",
    "\n",
    "#Generate store preference for each household\n",
    "#Separate by each third of the income distribution\n",
    "addresses['prefs'] = pd.qcut(addresses['simulated_income'], 3, labels = [1, 2, 3])\n",
    "\n",
    "lambda_penalty = 20\n",
    "lamb = []\n",
    "for i in households:\n",
    "    pref = [lambda_penalty if addresses['prefs'][i] != j else 0 for j in store_type]\n",
    "    lamb.append(pref)\n",
    "lamb = np.array(lamb)\n",
    "\n",
    "# Construct Z[i,k] = 1 if household travels time exceeds 20 minutes, 0 otherwise\n",
    "# travel time is in hours, so convert 20 minutes to hours\n",
    "cutoff = 20\n",
    "cutoff_hours = cutoff/60\n",
    "\n",
    "#Take travel times, replace any value greater than the cuttoff with 1, 0 otherwise\n",
    "Z = np.where(T > cutoff_hours, 1, 0)\n",
    "\n",
    "#Construct the delta matrix\n",
    "#Difference between cutoff and travel time\n",
    "Z = (T - cutoff_hours)*Z\n",
    "\n",
    "#Finally, convert Z to minutes\n",
    "Z = Z*60\n",
    "\n",
    "#Set Delta penalty\n",
    "delta = 2\n"
   ]
  },
  {
   "cell_type": "markdown",
   "metadata": {},
   "source": [
    "## Gurobi Implementation - Decision Vars, Objective Terms, and Constraints"
   ]
  },
  {
   "cell_type": "code",
   "execution_count": 134,
   "metadata": {},
   "outputs": [],
   "source": [
    "#Initialize the model\n",
    "m = Model(name = 'Food_Deserts')\n",
    "\n",
    "#Define decision variables\n",
    "X = m.addVars(store_type, location, vtype = GRB.BINARY, name = 'X_jk')\n",
    "Y = m.addVars(households, store_type, location, vtype = GRB.BINARY, name = 'Y_ijk')\n",
    "\n",
    "#Define the objective terms\n",
    "#Total Construction cost\n",
    "BUILD_COST = LinExpr()\n",
    "\n",
    "for j in store_type:\n",
    "    for k in location:\n",
    "        BUILD_COST += X[j,k]*E[k]\n",
    "        \n",
    "#Total Access cost\n",
    "ACCESS_COST = LinExpr()\n",
    "\n",
    "for j in store_type:\n",
    "    for i in households:\n",
    "        for k in location:\n",
    "            ACCESS_COST += Y[i,j,k] * (D[i,k] + Z[i,k]*delta + lamb[i,j]) * 52\n",
    "\n",
    "#Define the constraints\n",
    "\n",
    "#Can only build on vacant land\n",
    "\n",
    "for j in store_type:\n",
    "    for k in location:\n",
    "        m.addConstr(X[j,k] <= 1 - O[k])\n",
    "\n",
    "#Can only build one store on each lot k\n",
    "for k in location:\n",
    "    m.addConstr(sum(X[j,k] for j in store_type) <=1)\n",
    "\n",
    "#Can only shop at existing or built store\n",
    "for i in households:\n",
    "    for j in store_type:\n",
    "        for k in location:\n",
    "            m.addConstr(Y[i,j,k] <= O[k] + X[j,k])\n",
    "\n",
    "#build max of 5 stores\n",
    "m.addConstr( sum(X[j,k] for j in store_type for k in location) <= 5)\n",
    "\n",
    "#Customer assignment\n",
    "for i in households:\n",
    "    m.addConstr( sum(Y[i,j,k] for j in store_type for k in location) == 1 )"
   ]
  },
  {
   "cell_type": "markdown",
   "metadata": {},
   "source": [
    "## Add Goals Weights, Set Objective, and Solve"
   ]
  },
  {
   "cell_type": "code",
   "execution_count": 140,
   "metadata": {},
   "outputs": [
    {
     "name": "stdout",
     "output_type": "stream",
     "text": [
      "Alpha:  0.0\n",
      "Optimal Construction Cost:  6774150.0\n",
      "Optimal Access Cost:  354290.63\n",
      "Total Objective Function Value:  50474.28\n",
      "Stores built:  5.0\n",
      "\n",
      "Alpha:  0.01\n",
      "Optimal Construction Cost:  6774150.0\n",
      "Optimal Access Cost:  354290.63\n",
      "Total Objective Function Value:  50062.34\n",
      "Stores built:  5.0\n",
      "\n",
      "Alpha:  0.02\n",
      "Optimal Construction Cost:  6774150.0\n",
      "Optimal Access Cost:  354290.63\n",
      "Total Objective Function Value:  49650.39\n",
      "Stores built:  5.0\n",
      "\n",
      "Alpha:  0.03\n",
      "Optimal Construction Cost:  6774150.0\n",
      "Optimal Access Cost:  354290.63\n",
      "Total Objective Function Value:  49238.44\n",
      "Stores built:  5.0\n",
      "\n",
      "Alpha:  0.04\n",
      "Optimal Construction Cost:  6774150.0\n",
      "Optimal Access Cost:  354290.63\n",
      "Total Objective Function Value:  48826.5\n",
      "Stores built:  5.0\n",
      "\n",
      "Alpha:  0.05\n",
      "Optimal Construction Cost:  6774150.0\n",
      "Optimal Access Cost:  354290.63\n",
      "Total Objective Function Value:  48414.55\n",
      "Stores built:  5.0\n",
      "\n",
      "Alpha:  0.06\n",
      "Optimal Construction Cost:  6774150.0\n",
      "Optimal Access Cost:  354290.63\n",
      "Total Objective Function Value:  48002.6\n",
      "Stores built:  5.0\n",
      "\n",
      "Alpha:  0.07\n",
      "Optimal Construction Cost:  6774150.0\n",
      "Optimal Access Cost:  354290.63\n",
      "Total Objective Function Value:  47590.66\n",
      "Stores built:  5.0\n",
      "\n",
      "Alpha:  0.08\n",
      "Optimal Construction Cost:  6774150.0\n",
      "Optimal Access Cost:  354290.63\n",
      "Total Objective Function Value:  47178.71\n",
      "Stores built:  5.0\n",
      "\n",
      "Alpha:  0.09\n",
      "Optimal Construction Cost:  6774150.0\n",
      "Optimal Access Cost:  354290.63\n",
      "Total Objective Function Value:  46766.77\n",
      "Stores built:  5.0\n",
      "\n",
      "Alpha:  0.1\n",
      "Optimal Construction Cost:  6774150.0\n",
      "Optimal Access Cost:  354290.63\n",
      "Total Objective Function Value:  46354.82\n",
      "Stores built:  5.0\n",
      "\n",
      "Alpha:  0.11\n",
      "Optimal Construction Cost:  6774150.0\n",
      "Optimal Access Cost:  354290.63\n",
      "Total Objective Function Value:  45942.87\n",
      "Stores built:  5.0\n",
      "\n",
      "Alpha:  0.12\n",
      "Optimal Construction Cost:  6724550.0\n",
      "Optimal Access Cost:  354350.6\n",
      "Total Objective Function Value:  45530.29\n",
      "Stores built:  5.0\n",
      "\n",
      "Alpha:  0.13\n",
      "Optimal Construction Cost:  6724550.0\n",
      "Optimal Access Cost:  354350.6\n",
      "Total Objective Function Value:  45117.58\n",
      "Stores built:  5.0\n",
      "\n",
      "Alpha:  0.14\n",
      "Optimal Construction Cost:  6724550.0\n",
      "Optimal Access Cost:  354350.6\n",
      "Total Objective Function Value:  44704.87\n",
      "Stores built:  5.0\n",
      "\n",
      "Alpha:  0.15\n",
      "Optimal Construction Cost:  5384660.0\n",
      "Optimal Access Cost:  356605.88\n",
      "Total Objective Function Value:  44289.94\n",
      "Stores built:  4.0\n",
      "\n",
      "Alpha:  0.16\n",
      "Optimal Construction Cost:  4038470.0\n",
      "Optimal Access Cost:  358940.31\n",
      "Total Objective Function Value:  43839.97\n",
      "Stores built:  3.0\n",
      "\n",
      "Alpha:  0.17\n",
      "Optimal Construction Cost:  2701680.0\n",
      "Optimal Access Cost:  361529.67\n",
      "Total Objective Function Value:  43378.8\n",
      "Stores built:  2.0\n",
      "\n",
      "Alpha:  0.18\n",
      "Optimal Construction Cost:  2701680.0\n",
      "Optimal Access Cost:  361529.67\n",
      "Total Objective Function Value:  42900.76\n",
      "Stores built:  2.0\n",
      "\n",
      "Alpha:  0.19\n",
      "Optimal Construction Cost:  2701680.0\n",
      "Optimal Access Cost:  361529.67\n",
      "Total Objective Function Value:  42422.71\n",
      "Stores built:  2.0\n",
      "\n",
      "Alpha:  0.2\n",
      "Optimal Construction Cost:  2701680.0\n",
      "Optimal Access Cost:  361529.67\n",
      "Total Objective Function Value:  41944.66\n",
      "Stores built:  2.0\n",
      "\n",
      "Alpha:  0.21\n",
      "Optimal Construction Cost:  2701680.0\n",
      "Optimal Access Cost:  361529.67\n",
      "Total Objective Function Value:  41466.62\n",
      "Stores built:  2.0\n",
      "\n",
      "Alpha:  0.22\n",
      "Optimal Construction Cost:  2701680.0\n",
      "Optimal Access Cost:  361529.67\n",
      "Total Objective Function Value:  40988.57\n",
      "Stores built:  2.0\n",
      "\n",
      "Alpha:  0.23\n",
      "Optimal Construction Cost:  2701680.0\n",
      "Optimal Access Cost:  361529.67\n",
      "Total Objective Function Value:  40510.52\n",
      "Stores built:  2.0\n",
      "\n",
      "Alpha:  0.24\n",
      "Optimal Construction Cost:  2701680.0\n",
      "Optimal Access Cost:  361529.67\n",
      "Total Objective Function Value:  40032.48\n",
      "Stores built:  2.0\n",
      "\n",
      "Alpha:  0.25\n",
      "Optimal Construction Cost:  1336690.0\n",
      "Optimal Access Cost:  365886.17\n",
      "Total Objective Function Value:  39552.46\n",
      "Stores built:  1.0\n",
      "\n",
      "Alpha:  0.26\n",
      "Optimal Construction Cost:  1336690.0\n",
      "Optimal Access Cost:  365886.17\n",
      "Total Objective Function Value:  39049.51\n",
      "Stores built:  1.0\n",
      "\n",
      "Alpha:  0.27\n",
      "Optimal Construction Cost:  1336690.0\n",
      "Optimal Access Cost:  365886.17\n",
      "Total Objective Function Value:  38546.55\n",
      "Stores built:  1.0\n",
      "\n",
      "Alpha:  0.28\n",
      "Optimal Construction Cost:  1336690.0\n",
      "Optimal Access Cost:  365886.17\n",
      "Total Objective Function Value:  38043.6\n",
      "Stores built:  1.0\n",
      "\n",
      "Alpha:  0.29\n",
      "Optimal Construction Cost:  0.0\n",
      "Optimal Access Cost:  371019.84\n",
      "Total Objective Function Value:  37528.91\n",
      "Stores built:  0.0\n",
      "\n"
     ]
    }
   ],
   "source": [
    "#Initialize an empty list to store tuples\n",
    "#tuple = (construction cost, access cost)\n",
    "results = []\n",
    "\n",
    "#Define alpha values to use\n",
    "step = 0.01\n",
    "alphas = np.arange(0, 1+step, step)\n",
    "\n",
    "counter = 0\n",
    "for alpha in alphas:\n",
    "    #add this condition so the for loop breaks if the alpha is high enough to stop building stores\n",
    "    if counter==0 or sum(X[(j,k)].x for j in store_type for k in location)>0:\n",
    "        counter+=1\n",
    "        m.setObjective((alpha*BUILD_COST/len(households)) + (52*2*(1-alpha)*ACCESS_COST/len(households)), GRB.MINIMIZE)\n",
    "        m.setParam('OutputFlag', 0)\n",
    "        m.optimize()\n",
    "        results.append((BUILD_COST.getValue()/len(households),\n",
    "                        52*2*ACCESS_COST.getValue()/len(households),\n",
    "                        str(sum(X[(j,k)].x for j in store_type for k in location))))\n",
    "        print('Alpha: ', str(alpha))\n",
    "        print('Optimal Construction Cost: ', str(round(BUILD_COST.getValue(), 2)))\n",
    "        print('Optimal Access Cost: ', str(round(ACCESS_COST.getValue(), 2)))\n",
    "        print('Total Objective Function Value: ', str(round(m.objVal, 2)))\n",
    "        print('Stores built: ',str(sum(X[(j,k)].x for j in store_type for k in location)))\n",
    "        print()"
   ]
  },
  {
   "cell_type": "markdown",
   "metadata": {},
   "source": [
    "# Results - Plot Pareto Frontier"
   ]
  },
  {
   "cell_type": "code",
   "execution_count": 155,
   "metadata": {},
   "outputs": [
    {
     "data": {
      "text/plain": [
       "Text(0, 0.5, 'Average Annual Access Cost (USD)')"
      ]
     },
     "execution_count": 155,
     "metadata": {},
     "output_type": "execute_result"
    },
    {
     "data": {
      "image/png": "[encoded data removed]",
      "text/plain": [
       "<Figure size 432x288 with 1 Axes>"
      ]
     },
     "metadata": {
      "needs_background": "light"
     },
     "output_type": "display_data"
    }
   ],
   "source": [
    "#Get x and y vectors from the results\n",
    "x = [BUILD_COST for (BUILD_COST, ACCESS_COST, stores_built) in results]\n",
    "y = [ACCESS_COST for (BUILD_COST, ACCESS_COST,stores_built) in results]\n",
    "c = [int(float(stores_built)) for (BUILD_COST, ACCESS_COST,stores_built) in results]\n",
    "#Plot the results\n",
    "#plt.plot(x,y)\n",
    "plt.scatter(x,y,c=c,alpha=.5)\n",
    "plt.title('Pareto Frontier - Per Capita Construction Cost vs. Annual Access Cost')\n",
    "plt.xlabel('Per Capita Construction Cost (USD)')\n",
    "plt.ylabel('Average Annual Access Cost (USD)')"
   ]
  },
  {
   "cell_type": "code",
   "execution_count": 154,
   "metadata": {},
   "outputs": [
    {
     "data": {
      "text/plain": [
       "5"
      ]
     },
     "execution_count": 154,
     "metadata": {},
     "output_type": "execute_result"
    }
   ],
   "source": []
  },
  {
   "cell_type": "code",
   "execution_count": null,
   "metadata": {},
   "outputs": [],
   "source": []
  }
 ],
 "metadata": {
  "kernelspec": {
   "display_name": "Python 3",
   "language": "python",
   "name": "python3"
  }
 },
 "nbformat": 4,
 "nbformat_minor": 4
}
