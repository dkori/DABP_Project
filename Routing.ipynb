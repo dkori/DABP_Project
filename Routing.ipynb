{
 "cells": [
  {
   "cell_type": "code",
   "execution_count": 83,
   "metadata": {},
   "outputs": [],
   "source": [
    "import requests\n",
    "import pandas as pd\n",
    "import herepy\n",
    "import config"
   ]
  },
  {
   "cell_type": "code",
   "execution_count": 84,
   "metadata": {},
   "outputs": [],
   "source": [
    "residents = pd.read_csv(\"addresses_simulated_incomes.csv\")\n",
    "\n",
    "car_mask = residents['simulated_commute_car']==1\n",
    "residents_car = residents[car_mask]\n",
    "residents_transit = residents[-car_mask]\n",
    "#Need to add store and vacant lot locations into a single df. Idk where current store info is--can you add that and the\n",
    "#vacant lot data here?\n",
    "stores = residents"
   ]
  },
  {
   "cell_type": "code",
   "execution_count": 85,
   "metadata": {},
   "outputs": [],
   "source": [
    "#limited rows for testing. Change to residents_car.loc[:, [..]].values instead of the slices to use whole datasets\n",
    "start_car_coords = residents_car.loc[0:1,[\"LATITUDE\", \"LONGITUDE\"]].values\n",
    "start_transit_coords = residents_transit.loc[0:1,[\"LATITUDE\", \"LONGITUDE\"]].values\n",
    "end_coords = stores.loc[2:3,[\"LATITUDE\", \"LONGITUDE\"]].values\n",
    "\n",
    "routingApi = herepy.RoutingApi(config.api_key)"
   ]
  },
  {
   "cell_type": "code",
   "execution_count": 86,
   "metadata": {},
   "outputs": [],
   "source": [
    "response_car = routingApi.matrix(\n",
    "    start_waypoints=start_car_coords,\n",
    "    destination_waypoints=end_coords,\n",
    "    departure='2020-07-04T17:00:00+02',\n",
    "    summary_attributes = ['traveltime'],\n",
    "    modes=[herepy.RouteMode.fastest, herepy.RouteMode.car])"
   ]
  },
  {
   "cell_type": "code",
   "execution_count": 87,
   "metadata": {},
   "outputs": [
    {
     "ename": "InvalidInputDataError",
     "evalue": "Transport type 'publicTransport' is not supported.",
     "output_type": "error",
     "traceback": [
      "\u001b[1;31m---------------------------------------------------------------------------\u001b[0m",
      "\u001b[1;31mInvalidInputDataError\u001b[0m                     Traceback (most recent call last)",
      "\u001b[1;32m<ipython-input-87-72fcf1a86d03>\u001b[0m in \u001b[0;36m<module>\u001b[1;34m\u001b[0m\n\u001b[0;32m      6\u001b[0m     \u001b[0mdeparture\u001b[0m\u001b[1;33m=\u001b[0m\u001b[1;34m'2020-07-04T17:00:00+02'\u001b[0m\u001b[1;33m,\u001b[0m\u001b[1;33m\u001b[0m\u001b[1;33m\u001b[0m\u001b[0m\n\u001b[0;32m      7\u001b[0m     \u001b[0msummary_attributes\u001b[0m \u001b[1;33m=\u001b[0m \u001b[1;33m[\u001b[0m\u001b[1;34m'traveltime'\u001b[0m\u001b[1;33m]\u001b[0m\u001b[1;33m,\u001b[0m\u001b[1;33m\u001b[0m\u001b[1;33m\u001b[0m\u001b[0m\n\u001b[1;32m----> 8\u001b[1;33m     modes=[herepy.RouteMode.fastest, herepy.RouteMode.publicTransport])\n\u001b[0m\u001b[0;32m      9\u001b[0m \u001b[1;33m\u001b[0m\u001b[0m\n\u001b[0;32m     10\u001b[0m response = routingApi.public_transport([11.0, 12.0],\n",
      "\u001b[1;32m~\\Anaconda3\\lib\\site-packages\\herepy\\routing_api.py\u001b[0m in \u001b[0;36mmatrix\u001b[1;34m(self, start_waypoints, destination_waypoints, departure, modes, summary_attributes)\u001b[0m\n\u001b[0;32m    352\u001b[0m                 \u001b[0mdestination_waypoint\u001b[0m \u001b[1;33m=\u001b[0m \u001b[0mself\u001b[0m\u001b[1;33m.\u001b[0m\u001b[0m_get_coordinates_for_location_name\u001b[0m\u001b[1;33m(\u001b[0m\u001b[0mdestination_waypoint\u001b[0m\u001b[1;33m)\u001b[0m\u001b[1;33m\u001b[0m\u001b[1;33m\u001b[0m\u001b[0m\n\u001b[0;32m    353\u001b[0m             \u001b[0mdata\u001b[0m\u001b[1;33m[\u001b[0m\u001b[1;34m'destination'\u001b[0m \u001b[1;33m+\u001b[0m \u001b[0mstr\u001b[0m\u001b[1;33m(\u001b[0m\u001b[0mi\u001b[0m\u001b[1;33m)\u001b[0m\u001b[1;33m]\u001b[0m \u001b[1;33m=\u001b[0m \u001b[0mself\u001b[0m\u001b[1;33m.\u001b[0m\u001b[0m__array_to_waypoint\u001b[0m\u001b[1;33m(\u001b[0m\u001b[0mdestination_waypoint\u001b[0m\u001b[1;33m)\u001b[0m\u001b[1;33m\u001b[0m\u001b[1;33m\u001b[0m\u001b[0m\n\u001b[1;32m--> 354\u001b[1;33m         \u001b[0mresponse\u001b[0m \u001b[1;33m=\u001b[0m \u001b[0mself\u001b[0m\u001b[1;33m.\u001b[0m\u001b[0m__get\u001b[0m\u001b[1;33m(\u001b[0m\u001b[0mself\u001b[0m\u001b[1;33m.\u001b[0m\u001b[0mURL_CALCULATE_MATRIX\u001b[0m\u001b[1;33m,\u001b[0m \u001b[0mdata\u001b[0m\u001b[1;33m,\u001b[0m \u001b[0mRoutingMatrixResponse\u001b[0m\u001b[1;33m)\u001b[0m\u001b[1;33m\u001b[0m\u001b[1;33m\u001b[0m\u001b[0m\n\u001b[0m\u001b[0;32m    355\u001b[0m         \u001b[1;32mreturn\u001b[0m \u001b[0mresponse\u001b[0m\u001b[1;33m\u001b[0m\u001b[1;33m\u001b[0m\u001b[0m\n\u001b[0;32m    356\u001b[0m \u001b[1;33m\u001b[0m\u001b[0m\n",
      "\u001b[1;32m~\\Anaconda3\\lib\\site-packages\\herepy\\routing_api.py\u001b[0m in \u001b[0;36m__get\u001b[1;34m(self, base_url, data, response_cls)\u001b[0m\n\u001b[0;32m     40\u001b[0m             \u001b[1;32mreturn\u001b[0m \u001b[0mresponse_cls\u001b[0m\u001b[1;33m.\u001b[0m\u001b[0mnew_from_jsondict\u001b[0m\u001b[1;33m(\u001b[0m\u001b[0mjson_data\u001b[0m\u001b[1;33m)\u001b[0m\u001b[1;33m\u001b[0m\u001b[1;33m\u001b[0m\u001b[0m\n\u001b[0;32m     41\u001b[0m         \u001b[1;32melse\u001b[0m\u001b[1;33m:\u001b[0m\u001b[1;33m\u001b[0m\u001b[1;33m\u001b[0m\u001b[0m\n\u001b[1;32m---> 42\u001b[1;33m             \u001b[1;32mraise\u001b[0m \u001b[0merror_from_routing_service_error\u001b[0m\u001b[1;33m(\u001b[0m\u001b[0mjson_data\u001b[0m\u001b[1;33m)\u001b[0m\u001b[1;33m\u001b[0m\u001b[1;33m\u001b[0m\u001b[0m\n\u001b[0m\u001b[0;32m     43\u001b[0m \u001b[1;33m\u001b[0m\u001b[0m\n\u001b[0;32m     44\u001b[0m     \u001b[1;33m@\u001b[0m\u001b[0mclassmethod\u001b[0m\u001b[1;33m\u001b[0m\u001b[1;33m\u001b[0m\u001b[0m\n",
      "\u001b[1;31mInvalidInputDataError\u001b[0m: Transport type 'publicTransport' is not supported."
     ]
    }
   ],
   "source": [
    "#The routingApi.matrix function doesn't support the publicTransport RouteMode-- will need to use the\n",
    "#public_transport method below\n",
    "response_transit = routingApi.matrix(\n",
    "    start_waypoints=start_transit_coords,\n",
    "    destination_waypoints=end_coords,\n",
    "    departure='2020-07-04T17:00:00+02',\n",
    "    summary_attributes = ['traveltime'],\n",
    "    modes=[herepy.RouteMode.fastest, herepy.RouteMode.publicTransport])\n",
    "\n",
    "response = routingApi.public_transport([11.0, 12.0],\n",
    "                                       [15.0, 16.0],\n",
    "                                       True,\n",
    "                                       [herepy.RouteMode.publicTransport, herepy.RouteMode.fastest])"
   ]
  },
  {
   "cell_type": "code",
   "execution_count": 88,
   "metadata": {},
   "outputs": [
    {
     "data": {
      "text/plain": [
       "'{\"response\": {\"matrixEntry\": [{\"destinationIndex\": 0, \"startIndex\": 0, \"summary\": {\"costFactor\": 2428, \"travelTime\": 2348}}, {\"destinationIndex\": 1, \"startIndex\": 0, \"summary\": {\"costFactor\": 2100, \"travelTime\": 2040}}, {\"destinationIndex\": 0, \"startIndex\": 1, \"summary\": {\"costFactor\": 1322, \"travelTime\": 1282}}, {\"destinationIndex\": 1, \"startIndex\": 1, \"summary\": {\"costFactor\": 994, \"travelTime\": 974}}], \"metaInfo\": {\"availableMapVersion\": [\"8.30.107.152\"], \"interfaceVersion\": \"2.6.76\", \"mapVersion\": \"8.30.107.152\", \"moduleVersion\": \"7.2.202015-6852\", \"timestamp\": \"2020-04-20T00:21:14Z\"}}}'"
      ]
     },
     "execution_count": 88,
     "metadata": {},
     "output_type": "execute_result"
    }
   ],
   "source": [
    "response_car.as_json_string()\n",
    "#response_transit.as_json_string()"
   ]
  },
  {
   "cell_type": "code",
   "execution_count": null,
   "metadata": {},
   "outputs": [],
   "source": []
  }
 ],
 "metadata": {
  "kernelspec": {
   "display_name": "Python 3",
   "language": "python",
   "name": "python3"
  },
  "language_info": {
   "codemirror_mode": {
    "name": "ipython",
    "version": 3
   },
   "file_extension": ".py",
   "mimetype": "text/x-python",
   "name": "python",
   "nbconvert_exporter": "python",
   "pygments_lexer": "ipython3",
   "version": "3.6.9"
  }
 },
 "nbformat": 4,
 "nbformat_minor": 4
}
