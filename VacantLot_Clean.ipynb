{
 "cells": [
  {
   "cell_type": "code",
   "execution_count": 10,
   "metadata": {},
   "outputs": [
    {
     "data": {
      "text/html": [
       "<div>\n",
       "<style scoped>\n",
       "    .dataframe tbody tr th:only-of-type {\n",
       "        vertical-align: middle;\n",
       "    }\n",
       "\n",
       "    .dataframe tbody tr th {\n",
       "        vertical-align: top;\n",
       "    }\n",
       "\n",
       "    .dataframe thead th {\n",
       "        text-align: right;\n",
       "    }\n",
       "</style>\n",
       "<table border=\"1\" class=\"dataframe\">\n",
       "  <thead>\n",
       "    <tr style=\"text-align: right;\">\n",
       "      <th></th>\n",
       "      <th>PIN</th>\n",
       "      <th>geom</th>\n",
       "      <th>PROPERTYHOUSENUM__asmt</th>\n",
       "      <th>PROPERTYADDRESS__asmt</th>\n",
       "      <th>PROPERTYZIP__asmt</th>\n",
       "      <th>USECODE__asmt</th>\n",
       "      <th>LOTAREA__asmt</th>\n",
       "      <th>COUNTYBUILDING__asmt</th>\n",
       "      <th>COUNTYLAND__asmt</th>\n",
       "      <th>COUNTYTOTAL__asmt</th>\n",
       "    </tr>\n",
       "  </thead>\n",
       "  <tbody>\n",
       "    <tr>\n",
       "      <th>0</th>\n",
       "      <td>0042P00013000000</td>\n",
       "      <td>{'coordinates': [[[[-80.0619341026642, 40.4544...</td>\n",
       "      <td>1100.0</td>\n",
       "      <td>SUTHERLAND ST</td>\n",
       "      <td>15204</td>\n",
       "      <td>10</td>\n",
       "      <td>5500.0</td>\n",
       "      <td>17900.0</td>\n",
       "      <td>14100.0</td>\n",
       "      <td>32000.0</td>\n",
       "    </tr>\n",
       "    <tr>\n",
       "      <th>1</th>\n",
       "      <td>0019B00096000000</td>\n",
       "      <td>{'coordinates': [[[[-80.0426864688937, 40.4418...</td>\n",
       "      <td>901.0</td>\n",
       "      <td>NEIDEL ST</td>\n",
       "      <td>15220</td>\n",
       "      <td>10</td>\n",
       "      <td>6000.0</td>\n",
       "      <td>5900.0</td>\n",
       "      <td>14100.0</td>\n",
       "      <td>20000.0</td>\n",
       "    </tr>\n",
       "    <tr>\n",
       "      <th>2</th>\n",
       "      <td>0006P00174000000</td>\n",
       "      <td>{'coordinates': [[[[-80.0249972124952, 40.4337...</td>\n",
       "      <td>0.0</td>\n",
       "      <td>AUGUSTA ST</td>\n",
       "      <td>15211</td>\n",
       "      <td>100</td>\n",
       "      <td>14400.0</td>\n",
       "      <td>0.0</td>\n",
       "      <td>26900.0</td>\n",
       "      <td>26900.0</td>\n",
       "    </tr>\n",
       "    <tr>\n",
       "      <th>3</th>\n",
       "      <td>0026R00063000000</td>\n",
       "      <td>{'coordinates': [[[[-79.9560083509559, 40.4538...</td>\n",
       "      <td>942.0</td>\n",
       "      <td>ALPENA ST</td>\n",
       "      <td>15219</td>\n",
       "      <td>10</td>\n",
       "      <td>5459.0</td>\n",
       "      <td>54400.0</td>\n",
       "      <td>30000.0</td>\n",
       "      <td>84400.0</td>\n",
       "    </tr>\n",
       "    <tr>\n",
       "      <th>4</th>\n",
       "      <td>0032A00267000000</td>\n",
       "      <td>{'coordinates': [[[[-79.9789812410175, 40.4120...</td>\n",
       "      <td>511.0</td>\n",
       "      <td>CATHEDRAL AVE</td>\n",
       "      <td>15210</td>\n",
       "      <td>10</td>\n",
       "      <td>6336.0</td>\n",
       "      <td>12000.0</td>\n",
       "      <td>10100.0</td>\n",
       "      <td>22100.0</td>\n",
       "    </tr>\n",
       "  </tbody>\n",
       "</table>\n",
       "</div>"
      ],
      "text/plain": [
       "                PIN                                               geom  \\\n",
       "0  0042P00013000000  {'coordinates': [[[[-80.0619341026642, 40.4544...   \n",
       "1  0019B00096000000  {'coordinates': [[[[-80.0426864688937, 40.4418...   \n",
       "2  0006P00174000000  {'coordinates': [[[[-80.0249972124952, 40.4337...   \n",
       "3  0026R00063000000  {'coordinates': [[[[-79.9560083509559, 40.4538...   \n",
       "4  0032A00267000000  {'coordinates': [[[[-79.9789812410175, 40.4120...   \n",
       "\n",
       "   PROPERTYHOUSENUM__asmt PROPERTYADDRESS__asmt  PROPERTYZIP__asmt  \\\n",
       "0                  1100.0         SUTHERLAND ST              15204   \n",
       "1                   901.0             NEIDEL ST              15220   \n",
       "2                     0.0            AUGUSTA ST              15211   \n",
       "3                   942.0             ALPENA ST              15219   \n",
       "4                   511.0         CATHEDRAL AVE              15210   \n",
       "\n",
       "   USECODE__asmt  LOTAREA__asmt  COUNTYBUILDING__asmt  COUNTYLAND__asmt  \\\n",
       "0             10         5500.0               17900.0           14100.0   \n",
       "1             10         6000.0                5900.0           14100.0   \n",
       "2            100        14400.0                   0.0           26900.0   \n",
       "3             10         5459.0               54400.0           30000.0   \n",
       "4             10         6336.0               12000.0           10100.0   \n",
       "\n",
       "   COUNTYTOTAL__asmt  \n",
       "0            32000.0  \n",
       "1            20000.0  \n",
       "2            26900.0  \n",
       "3            84400.0  \n",
       "4            22100.0  "
      ]
     },
     "execution_count": 10,
     "metadata": {},
     "output_type": "execute_result"
    }
   ],
   "source": [
    "import pandas as pd\n",
    "import numpy as np\n",
    "\n",
    "df = pd.read_csv('../Datasets/parcel_data.csv', low_memory = False)\n",
    "df.head()"
   ]
  },
  {
   "cell_type": "code",
   "execution_count": 11,
   "metadata": {},
   "outputs": [],
   "source": [
    "column_selections = [\"PROPERTYHOUSENUM__asmt\", \"PROPERTYADDRESS__asmt\", \"PROPERTYZIP__asmt\", \"LOTAREA__asmt\", \"USECODE__asmt\",\n",
    "                    \"COUNTYBUILDING__asmt\", \"COUNTYLAND__asmt\", \"COUNTYTOTAL__asmt\"]\n",
    "df = df.loc[:, column_selections]\n",
    "vacant = df[\"USECODE__asmt\"] == 100\n",
    "vacant_df = df[vacant]\n",
    "\n",
    "large = df[\"LOTAREA__asmt\"] >= 30000\n",
    "large_df = df[large]\n",
    "\n",
    "vacant_large_df = df[vacant & large]"
   ]
  },
  {
   "cell_type": "code",
   "execution_count": 13,
   "metadata": {},
   "outputs": [
    {
     "data": {
      "text/plain": [
       "3589301.0"
      ]
     },
     "execution_count": 13,
     "metadata": {},
     "output_type": "execute_result"
    }
   ],
   "source": [
    "max(vacant_large_df[\"LOTAREA__asmt\"])"
   ]
  },
  {
   "cell_type": "code",
   "execution_count": null,
   "metadata": {},
   "outputs": [],
   "source": []
  }
 ],
 "metadata": {
  "kernelspec": {
   "display_name": "Python 3",
   "language": "python",
   "name": "python3"
  },
  "language_info": {
   "codemirror_mode": {
    "name": "ipython",
    "version": 3
   },
   "file_extension": ".py",
   "mimetype": "text/x-python",
   "name": "python",
   "nbconvert_exporter": "python",
   "pygments_lexer": "ipython3",
   "version": "3.6.9"
  }
 },
 "nbformat": 4,
 "nbformat_minor": 4
}
